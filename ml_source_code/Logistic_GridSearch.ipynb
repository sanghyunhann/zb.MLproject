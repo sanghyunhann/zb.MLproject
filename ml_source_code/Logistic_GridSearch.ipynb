{
 "cells": [
  {
   "cell_type": "code",
   "execution_count": 1,
   "metadata": {},
   "outputs": [],
   "source": [
    "import koreanize_matplotlib\n",
    "import numpy as np\n",
    "import matplotlib.pyplot as plt\n",
    "import pandas as pd\n",
    "import seaborn as sns\n",
    "import sklearn.tree as tree\n",
    "\n",
    "from collections import Counter\n",
    "from imblearn.over_sampling import SMOTE\n",
    "from sklearn.linear_model import LogisticRegression\n",
    "from sklearn.metrics import (accuracy_score, precision_score, recall_score, f1_score, roc_auc_score, roc_curve)\n",
    "from sklearn.metrics import classification_report\n",
    "from sklearn.model_selection import cross_val_score\n",
    "from sklearn.model_selection import KFold, GridSearchCV\n",
    "from sklearn.model_selection import StratifiedKFold\n",
    "from sklearn.model_selection import train_test_split\n",
    "from sklearn.pipeline import Pipeline\n",
    "from sklearn.preprocessing import LabelEncoder\n",
    "from sklearn.preprocessing import MinMaxScaler\n",
    "from sklearn.preprocessing import StandardScaler\n",
    "from sklearn.tree import DecisionTreeClassifier"
   ]
  },
  {
   "cell_type": "code",
   "execution_count": 2,
   "metadata": {},
   "outputs": [],
   "source": [
    "# 데이터 불러오기\n",
    "\n",
    "df = pd.read_csv('../data/BankChurners.csv')\n",
    "df.drop('CLIENTNUM', axis=1, inplace=True)\n",
    "df.drop('Naive_Bayes_Classifier_Attrition_Flag_Card_Category_Contacts_Count_12_mon_Dependent_count_Education_Level_Months_Inactive_12_mon_1', axis=1, inplace=True)\n",
    "df.drop('Naive_Bayes_Classifier_Attrition_Flag_Card_Category_Contacts_Count_12_mon_Dependent_count_Education_Level_Months_Inactive_12_mon_2', axis=1, inplace=True)"
   ]
  },
  {
   "cell_type": "code",
   "execution_count": 3,
   "metadata": {},
   "outputs": [],
   "source": [
    "# 컬럼 이름 변경\n",
    "df.rename(columns={\n",
    "    'Attrition_Flag' : 'Exited',\n",
    "    'Customer_Age' : 'Age',\n",
    "    'Dependent_count' : 'Dependents',\n",
    "    'Education_Level' : 'Education', \n",
    "    'Marital_Status' : 'Marital', \n",
    "    'Income_Category' : 'Income', \n",
    "    'Card_Category' : 'Card_Type',\n",
    "    'Months_on_book' : 'Tenure', \n",
    "    'Total_Relationship_Count' : 'Product_Cnt', \n",
    "    'Months_Inactive_12_mon' : 'Inactive_Months',\n",
    "    'Contacts_Count_12_mon' : 'Contacts_Cnt', \n",
    "    'Total_Revolving_Bal' : 'Revolv_Bal',   \n",
    "    'Avg_Open_To_Buy' : 'Avg_OTB', \n",
    "    'Total_Amt_Chng_Q4_Q1' : 'Amt_Chng_Q4_Q1', \n",
    "    'Total_Trans_Amt' : 'Trans_Amt',\n",
    "    'Total_Trans_Ct' : 'Trans_Cnt', \n",
    "    'Total_Ct_Chng_Q4_Q1' : 'Cnt_Chng_Q4_Q1', \n",
    "    'Avg_Utilization_Ratio' : 'Avg_Util_Ratio'\n",
    "}, inplace=True)"
   ]
  },
  {
   "cell_type": "code",
   "execution_count": 4,
   "metadata": {},
   "outputs": [],
   "source": [
    "# 컬럼 순서변경\n",
    "df = df[['Exited', 'Age', 'Gender', 'Dependents', 'Education', 'Marital', 'Income', 'Card_Type', 'Tenure', 'Product_Cnt', 'Inactive_Months',\n",
    "         'Contacts_Cnt', 'Credit_Limit', 'Revolv_Bal', 'Avg_OTB', 'Avg_Util_Ratio', 'Trans_Amt', 'Trans_Cnt', 'Amt_Chng_Q4_Q1',  'Cnt_Chng_Q4_Q1']]"
   ]
  },
  {
   "cell_type": "code",
   "execution_count": 5,
   "metadata": {},
   "outputs": [],
   "source": [
    "# 변수별 encoding\n",
    "mapping = {\n",
    "    'Exited': {'Existing Customer': 0, 'Attrited Customer': 1},\n",
    "    'Gender': {'M': 0, 'F': 1},\n",
    "    'Education': {'Uneducated': 0, 'High School': 1, 'College': 2, 'Graduate' : 3, 'Post-Graduate': 4, 'Doctorate': 5, 'Unknown': 6},\n",
    "    'Marital': {'Single': 0, 'Married': 1, 'Divorced': 2, 'Unknown': 3},\n",
    "    'Income': {'Less than $40K': 0, '$40K - $60K': 1, '$60K - $80K': 2, '$80K - $120K': 3, '$120K +': 4, 'Unknown': 5},\n",
    "    'Card_Type': {'Blue': 0, 'Silver': 1, 'Gold': 2, 'Platinum': 3}\n",
    "}\n",
    "\n",
    "df = df.replace(mapping)"
   ]
  },
  {
   "cell_type": "code",
   "execution_count": 6,
   "metadata": {},
   "outputs": [
    {
     "name": "stdout",
     "output_type": "stream",
     "text": [
      "Best Hyperparameters:  {'C': 3, 'penalty': 'l1'}\n",
      "Best Accuracy:  0.8996418153707892\n"
     ]
    }
   ],
   "source": [
    "X = df[['Product_Cnt', 'Inactive_Months', 'Contacts_Cnt', 'Revolv_Bal', 'Avg_Util_Ratio', 'Trans_Amt', 'Trans_Cnt', 'Amt_Chng_Q4_Q1', 'Cnt_Chng_Q4_Q1']]\n",
    "y = df['Exited']\n",
    "\n",
    "X_train, X_test, y_train, y_test = train_test_split(X, y, test_size=0.2, random_state=13)\n",
    "lr = LogisticRegression(solver='liblinear', random_state=13)\n",
    "\n",
    "# 탐색할 하이퍼파라미터들의 후보 값들\n",
    "params = {\n",
    "    'C': [0.1, 1, 3, 5, 7, 9, 10],  # C 값 후보\n",
    "    'penalty': ['l1', 'l2'],  # L1 정규화 또는 L2 정규화 후보\n",
    "}\n",
    "\n",
    "# GridSearchCV를 이용하여 모델과 파라미터 후보들을 입력하여 튜닝\n",
    "gridsearch = GridSearchCV(estimator=lr, param_grid=params, cv=5)\n",
    "gridsearch.fit(X_train, y_train)\n",
    "\n",
    "# 최적의 하이퍼파라미터와 정확도 출력\n",
    "print(\"Best Hyperparameters: \", gridsearch.best_params_)\n",
    "print(\"Best Accuracy: \", gridsearch.best_score_)"
   ]
  },
  {
   "cell_type": "code",
   "execution_count": null,
   "metadata": {},
   "outputs": [],
   "source": []
  },
  {
   "cell_type": "code",
   "execution_count": null,
   "metadata": {},
   "outputs": [],
   "source": []
  },
  {
   "cell_type": "code",
   "execution_count": null,
   "metadata": {},
   "outputs": [],
   "source": []
  }
 ],
 "metadata": {
  "kernelspec": {
   "display_name": "ds_study",
   "language": "python",
   "name": "python3"
  },
  "language_info": {
   "codemirror_mode": {
    "name": "ipython",
    "version": 3
   },
   "file_extension": ".py",
   "mimetype": "text/x-python",
   "name": "python",
   "nbconvert_exporter": "python",
   "pygments_lexer": "ipython3",
   "version": "3.8.16"
  },
  "orig_nbformat": 4
 },
 "nbformat": 4,
 "nbformat_minor": 2
}
