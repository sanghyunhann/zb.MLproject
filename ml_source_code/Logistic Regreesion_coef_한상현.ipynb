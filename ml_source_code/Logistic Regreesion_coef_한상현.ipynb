{
 "cells": [
  {
   "cell_type": "code",
   "execution_count": 107,
   "metadata": {},
   "outputs": [],
   "source": [
    "import koreanize_matplotlib\n",
    "import numpy as np\n",
    "import matplotlib.pyplot as plt\n",
    "import pandas as pd\n",
    "import seaborn as sns\n",
    "import sklearn.tree as tree\n",
    "\n",
    "from collections import Counter\n",
    "from imblearn.over_sampling import SMOTE\n",
    "from sklearn.linear_model import LogisticRegression\n",
    "from sklearn.metrics import (accuracy_score, precision_score, recall_score, f1_score, roc_auc_score, roc_curve)\n",
    "from sklearn.metrics import classification_report\n",
    "from sklearn.model_selection import cross_val_score\n",
    "from sklearn.model_selection import KFold, GridSearchCV\n",
    "from sklearn.model_selection import StratifiedKFold\n",
    "from sklearn.model_selection import train_test_split\n",
    "from sklearn.pipeline import Pipeline\n",
    "from sklearn.preprocessing import LabelEncoder\n",
    "from sklearn.preprocessing import MinMaxScaler\n",
    "from sklearn.preprocessing import StandardScaler\n",
    "from sklearn.tree import DecisionTreeClassifier"
   ]
  },
  {
   "cell_type": "markdown",
   "metadata": {},
   "source": [
    "## 1. 데이터"
   ]
  },
  {
   "cell_type": "code",
   "execution_count": 108,
   "metadata": {},
   "outputs": [],
   "source": [
    "# 데이터 불러오기\n",
    "\n",
    "df = pd.read_csv('../data/BankChurners.csv')\n",
    "df.drop('CLIENTNUM', axis=1, inplace=True)\n",
    "df.drop('Naive_Bayes_Classifier_Attrition_Flag_Card_Category_Contacts_Count_12_mon_Dependent_count_Education_Level_Months_Inactive_12_mon_1', axis=1, inplace=True)\n",
    "df.drop('Naive_Bayes_Classifier_Attrition_Flag_Card_Category_Contacts_Count_12_mon_Dependent_count_Education_Level_Months_Inactive_12_mon_2', axis=1, inplace=True)"
   ]
  },
  {
   "cell_type": "code",
   "execution_count": 109,
   "metadata": {},
   "outputs": [],
   "source": [
    "# 컬럼 이름 변경\n",
    "df.rename(columns={\n",
    "    'Attrition_Flag' : 'Exited',\n",
    "    'Customer_Age' : 'Age',\n",
    "    'Dependent_count' : 'Dependents',\n",
    "    'Education_Level' : 'Education', \n",
    "    'Marital_Status' : 'Marital', \n",
    "    'Income_Category' : 'Income', \n",
    "    'Card_Category' : 'Card_Type',\n",
    "    'Months_on_book' : 'Tenure', \n",
    "    'Total_Relationship_Count' : 'Product_Cnt', \n",
    "    'Months_Inactive_12_mon' : 'Inactive_Months',\n",
    "    'Contacts_Count_12_mon' : 'Contacts_Cnt', \n",
    "    'Total_Revolving_Bal' : 'Revolv_Bal',   \n",
    "    'Avg_Open_To_Buy' : 'Avg_OTB', \n",
    "    'Total_Amt_Chng_Q4_Q1' : 'Amt_Chng_Q4_Q1', \n",
    "    'Total_Trans_Amt' : 'Trans_Amt',\n",
    "    'Total_Trans_Ct' : 'Trans_Cnt', \n",
    "    'Total_Ct_Chng_Q4_Q1' : 'Cnt_Chng_Q4_Q1', \n",
    "    'Avg_Utilization_Ratio' : 'Avg_Util_Ratio'\n",
    "}, inplace=True)"
   ]
  },
  {
   "cell_type": "code",
   "execution_count": 110,
   "metadata": {},
   "outputs": [],
   "source": [
    "# 컬럼 순서변경\n",
    "df = df[['Exited', 'Age', 'Gender', 'Dependents', 'Education', 'Marital', 'Income', 'Card_Type', 'Tenure', 'Product_Cnt', 'Inactive_Months',\n",
    "         'Contacts_Cnt', 'Credit_Limit', 'Revolv_Bal', 'Avg_OTB', 'Avg_Util_Ratio', 'Trans_Amt', 'Trans_Cnt', 'Amt_Chng_Q4_Q1',  'Cnt_Chng_Q4_Q1']]"
   ]
  },
  {
   "cell_type": "markdown",
   "metadata": {},
   "source": [
    "## 2. Label Encoder"
   ]
  },
  {
   "cell_type": "code",
   "execution_count": 111,
   "metadata": {},
   "outputs": [],
   "source": [
    "# 변수별 encoding\n",
    "mapping = {\n",
    "    'Exited': {'Existing Customer': 0, 'Attrited Customer': 1},\n",
    "    'Gender': {'M': 0, 'F': 1},\n",
    "    'Education': {'Uneducated': 0, 'High School': 1, 'College': 2, 'Graduate' : 3, 'Post-Graduate': 4, 'Doctorate': 5, 'Unknown': 6},\n",
    "    'Marital': {'Single': 0, 'Married': 1, 'Divorced': 2, 'Unknown': 3},\n",
    "    'Income': {'Less than $40K': 0, '$40K - $60K': 1, '$60K - $80K': 2, '$80K - $120K': 3, '$120K +': 4, 'Unknown': 5},\n",
    "    'Card_Type': {'Blue': 0, 'Silver': 1, 'Gold': 2, 'Platinum': 3}\n",
    "}\n",
    "\n",
    "df = df.replace(mapping)"
   ]
  },
  {
   "cell_type": "markdown",
   "metadata": {},
   "source": [
    "## 3. 교차검증 및 스케일링"
   ]
  },
  {
   "cell_type": "markdown",
   "metadata": {},
   "source": [
    "> ### 영주님 코드 참고"
   ]
  },
  {
   "cell_type": "code",
   "execution_count": 112,
   "metadata": {},
   "outputs": [
    {
     "name": "stdout",
     "output_type": "stream",
     "text": [
      "1번째 폴드: 훈련 샘플 수 - 8101, 테스트 샘플 수 - 2026\n",
      "2번째 폴드: 훈련 샘플 수 - 8101, 테스트 샘플 수 - 2026\n",
      "3번째 폴드: 훈련 샘플 수 - 8102, 테스트 샘플 수 - 2025\n",
      "4번째 폴드: 훈련 샘플 수 - 8102, 테스트 샘플 수 - 2025\n",
      "5번째 폴드: 훈련 샘플 수 - 8102, 테스트 샘플 수 - 2025\n"
     ]
    }
   ],
   "source": [
    "# 교차검증(stratified k-fold cross validation (n_split:5))\n",
    "\n",
    "from sklearn.model_selection import StratifiedKFold\n",
    "\n",
    "X = df.drop('Exited', axis=1).values\n",
    "y = df['Exited'].values\n",
    "\n",
    "skf = StratifiedKFold(n_splits=5, shuffle=True, random_state=13)\n",
    "\n",
    "fold_idx = 1\n",
    "\n",
    "for train_index, test_index in skf.split(X, y):\n",
    "    X_train, X_test = X[train_index], X[test_index]\n",
    "    y_train, y_test = y[train_index], y[test_index]\n",
    "    \n",
    "    print(f\"{fold_idx}번째 폴드: 훈련 샘플 수 - {len(X_train)}, 테스트 샘플 수 - {len(X_test)}\")\n",
    "    \n",
    "    fold_idx += 1"
   ]
  },
  {
   "cell_type": "code",
   "execution_count": 113,
   "metadata": {},
   "outputs": [
    {
     "name": "stdout",
     "output_type": "stream",
     "text": [
      "Fold 1 정확도: 0.9042448173741362\n",
      "Fold 2 정확도: 0.9012833168805529\n",
      "Fold 3 정확도: 0.9022222222222223\n",
      "Fold 4 정확도: 0.9066666666666666\n",
      "Fold 5 정확도: 0.9071604938271605\n",
      "평균 정확도: 0.9043155033941476\n"
     ]
    }
   ],
   "source": [
    "from sklearn.metrics import accuracy_score\n",
    "\n",
    "fold_idx = 1\n",
    "accuracy_scores = []\n",
    "\n",
    "for train_index, test_index in skf.split(X, y):\n",
    "    X_train, X_test = X[train_index], X[test_index]\n",
    "    y_train, y_test = y[train_index], y[test_index]\n",
    "\n",
    "    model = LogisticRegression(solver='liblinear', random_state=13, C=3, penalty='l1' )\n",
    "\n",
    "    model.fit(X_train, y_train)\n",
    "    \n",
    "    y_pred = model.predict(X_test)\n",
    "    \n",
    "    accuracy = accuracy_score(y_test, y_pred)\n",
    "    accuracy_scores.append(accuracy)\n",
    "    \n",
    "    fold_idx += 1\n",
    "\n",
    "for idx, acc in enumerate(accuracy_scores, start=1):\n",
    "    print(f\"Fold {idx} 정확도: {acc}\")\n",
    "\n",
    "mean_accuracy = np.mean(accuracy_scores)\n",
    "print(f\"평균 정확도: {mean_accuracy}\")\n"
   ]
  },
  {
   "cell_type": "code",
   "execution_count": 114,
   "metadata": {},
   "outputs": [],
   "source": [
    "# 데이터 스케일링(standard scaler)\n",
    "from sklearn.preprocessing import StandardScaler\n",
    "\n",
    "features = df.drop('Exited', axis=1).values\n",
    "label = df['Exited'].values\n",
    "\n",
    "std = StandardScaler()\n",
    "features_scaled = std.fit_transform(features)"
   ]
  },
  {
   "cell_type": "code",
   "execution_count": 115,
   "metadata": {},
   "outputs": [],
   "source": [
    "# 데이터를 훈련/테스트로 분리\n",
    "from sklearn.model_selection import train_test_split\n",
    "\n",
    "X_train, X_test, y_train, y_test = train_test_split(features_scaled, label,\n",
    "                                                    test_size=0.2,\n",
    "                                                    stratify=label,\n",
    "                                                    random_state=13)"
   ]
  },
  {
   "cell_type": "code",
   "execution_count": 116,
   "metadata": {},
   "outputs": [
    {
     "data": {
      "text/html": [
       "<style>#sk-container-id-5 {color: black;background-color: white;}#sk-container-id-5 pre{padding: 0;}#sk-container-id-5 div.sk-toggleable {background-color: white;}#sk-container-id-5 label.sk-toggleable__label {cursor: pointer;display: block;width: 100%;margin-bottom: 0;padding: 0.3em;box-sizing: border-box;text-align: center;}#sk-container-id-5 label.sk-toggleable__label-arrow:before {content: \"▸\";float: left;margin-right: 0.25em;color: #696969;}#sk-container-id-5 label.sk-toggleable__label-arrow:hover:before {color: black;}#sk-container-id-5 div.sk-estimator:hover label.sk-toggleable__label-arrow:before {color: black;}#sk-container-id-5 div.sk-toggleable__content {max-height: 0;max-width: 0;overflow: hidden;text-align: left;background-color: #f0f8ff;}#sk-container-id-5 div.sk-toggleable__content pre {margin: 0.2em;color: black;border-radius: 0.25em;background-color: #f0f8ff;}#sk-container-id-5 input.sk-toggleable__control:checked~div.sk-toggleable__content {max-height: 200px;max-width: 100%;overflow: auto;}#sk-container-id-5 input.sk-toggleable__control:checked~label.sk-toggleable__label-arrow:before {content: \"▾\";}#sk-container-id-5 div.sk-estimator input.sk-toggleable__control:checked~label.sk-toggleable__label {background-color: #d4ebff;}#sk-container-id-5 div.sk-label input.sk-toggleable__control:checked~label.sk-toggleable__label {background-color: #d4ebff;}#sk-container-id-5 input.sk-hidden--visually {border: 0;clip: rect(1px 1px 1px 1px);clip: rect(1px, 1px, 1px, 1px);height: 1px;margin: -1px;overflow: hidden;padding: 0;position: absolute;width: 1px;}#sk-container-id-5 div.sk-estimator {font-family: monospace;background-color: #f0f8ff;border: 1px dotted black;border-radius: 0.25em;box-sizing: border-box;margin-bottom: 0.5em;}#sk-container-id-5 div.sk-estimator:hover {background-color: #d4ebff;}#sk-container-id-5 div.sk-parallel-item::after {content: \"\";width: 100%;border-bottom: 1px solid gray;flex-grow: 1;}#sk-container-id-5 div.sk-label:hover label.sk-toggleable__label {background-color: #d4ebff;}#sk-container-id-5 div.sk-serial::before {content: \"\";position: absolute;border-left: 1px solid gray;box-sizing: border-box;top: 0;bottom: 0;left: 50%;z-index: 0;}#sk-container-id-5 div.sk-serial {display: flex;flex-direction: column;align-items: center;background-color: white;padding-right: 0.2em;padding-left: 0.2em;position: relative;}#sk-container-id-5 div.sk-item {position: relative;z-index: 1;}#sk-container-id-5 div.sk-parallel {display: flex;align-items: stretch;justify-content: center;background-color: white;position: relative;}#sk-container-id-5 div.sk-item::before, #sk-container-id-5 div.sk-parallel-item::before {content: \"\";position: absolute;border-left: 1px solid gray;box-sizing: border-box;top: 0;bottom: 0;left: 50%;z-index: -1;}#sk-container-id-5 div.sk-parallel-item {display: flex;flex-direction: column;z-index: 1;position: relative;background-color: white;}#sk-container-id-5 div.sk-parallel-item:first-child::after {align-self: flex-end;width: 50%;}#sk-container-id-5 div.sk-parallel-item:last-child::after {align-self: flex-start;width: 50%;}#sk-container-id-5 div.sk-parallel-item:only-child::after {width: 0;}#sk-container-id-5 div.sk-dashed-wrapped {border: 1px dashed gray;margin: 0 0.4em 0.5em 0.4em;box-sizing: border-box;padding-bottom: 0.4em;background-color: white;}#sk-container-id-5 div.sk-label label {font-family: monospace;font-weight: bold;display: inline-block;line-height: 1.2em;}#sk-container-id-5 div.sk-label-container {text-align: center;}#sk-container-id-5 div.sk-container {/* jupyter's `normalize.less` sets `[hidden] { display: none; }` but bootstrap.min.css set `[hidden] { display: none !important; }` so we also need the `!important` here to be able to override the default hidden behavior on the sphinx rendered scikit-learn.org. See: https://github.com/scikit-learn/scikit-learn/issues/21755 */display: inline-block !important;position: relative;}#sk-container-id-5 div.sk-text-repr-fallback {display: none;}</style><div id=\"sk-container-id-5\" class=\"sk-top-container\"><div class=\"sk-text-repr-fallback\"><pre>LogisticRegression(C=3, penalty=&#x27;l1&#x27;, random_state=13, solver=&#x27;liblinear&#x27;)</pre><b>In a Jupyter environment, please rerun this cell to show the HTML representation or trust the notebook. <br />On GitHub, the HTML representation is unable to render, please try loading this page with nbviewer.org.</b></div><div class=\"sk-container\" hidden><div class=\"sk-item\"><div class=\"sk-estimator sk-toggleable\"><input class=\"sk-toggleable__control sk-hidden--visually\" id=\"sk-estimator-id-5\" type=\"checkbox\" checked><label for=\"sk-estimator-id-5\" class=\"sk-toggleable__label sk-toggleable__label-arrow\">LogisticRegression</label><div class=\"sk-toggleable__content\"><pre>LogisticRegression(C=3, penalty=&#x27;l1&#x27;, random_state=13, solver=&#x27;liblinear&#x27;)</pre></div></div></div></div></div>"
      ],
      "text/plain": [
       "LogisticRegression(C=3, penalty='l1', random_state=13, solver='liblinear')"
      ]
     },
     "execution_count": 116,
     "metadata": {},
     "output_type": "execute_result"
    }
   ],
   "source": [
    "model = LogisticRegression(solver='liblinear', random_state=13, C=3, penalty='l1' )\n",
    "model.fit(X_train, y_train)"
   ]
  },
  {
   "cell_type": "code",
   "execution_count": 117,
   "metadata": {},
   "outputs": [
    {
     "name": "stdout",
     "output_type": "stream",
     "text": [
      "Accuracy: 0.9017769002961501\n",
      "Precision: 0.752\n",
      "Recall: 0.5784615384615385\n",
      "F1-score: 0.6539130434782608\n",
      "AUC-ROC: 0.9303016325238547\n"
     ]
    }
   ],
   "source": [
    "from sklearn.metrics import accuracy_score, precision_score, recall_score, f1_score, roc_auc_score\n",
    "\n",
    "# 테스트 데이터로 예측 수행\n",
    "y_pred = model.predict(X_test)\n",
    "y_pred_probs = model.predict_proba(X_test)[:, 1]\n",
    "\n",
    "# 정확도 평가\n",
    "accuracy = accuracy_score(y_test, y_pred)\n",
    "print(\"Accuracy:\", accuracy)\n",
    "\n",
    "# 정밀도 평가\n",
    "precision = precision_score(y_test, y_pred)\n",
    "print(\"Precision:\", precision)\n",
    "\n",
    "# 재현율 평가\n",
    "recall = recall_score(y_test, y_pred)\n",
    "print(\"Recall:\", recall)\n",
    "\n",
    "# F1-score 평가\n",
    "f1 = f1_score(y_test, y_pred)\n",
    "print(\"F1-score:\", f1)\n",
    "\n",
    "# AUC-ROC 평가\n",
    "roc_auc = roc_auc_score(y_test, y_pred_probs)\n",
    "print(\"AUC-ROC:\", roc_auc)"
   ]
  },
  {
   "cell_type": "code",
   "execution_count": 118,
   "metadata": {},
   "outputs": [
    {
     "name": "stdout",
     "output_type": "stream",
     "text": [
      "Trans_Cnt: 2.6589656280321647\n",
      "Trans_Amt: 1.555848514382384\n",
      "Revolv_Bal: 0.7764501175871036\n",
      "Product_Cnt: 0.715255812196321\n",
      "Cnt_Chng_Q4_Q1: 0.6765008265333101\n",
      "Contacts_Cnt: 0.5312052132138345\n",
      "Inactive_Months: 0.484383842145075\n",
      "Gender: 0.3140623827789579\n",
      "Dependents: 0.17838899763732638\n",
      "Card_Type: 0.13674997471718453\n",
      "Amt_Chng_Q4_Q1: 0.10843233541063191\n",
      "Tenure: 0.07755930501442877\n",
      "Marital: 0.06939151994694039\n",
      "Avg_OTB: 0.044101804141627794\n",
      "Income: 0.04211010097920088\n",
      "Education: 0.03378580848342969\n",
      "Age: 0.02316922607501537\n",
      "Credit_Limit: 0.014848506281727087\n",
      "Avg_Util_Ratio: 0.006853706976101743\n"
     ]
    }
   ],
   "source": [
    "# 피쳐의 중요도 확인\n",
    "feature_importance = np.abs(model.coef_[0])\n",
    "\n",
    "feature_names = df.drop('Exited', axis=1).columns\n",
    "\n",
    "sorted_indices = sorted(range(len(feature_importance)), key=lambda k: feature_importance[k], reverse=True)\n",
    "sorted_feature_importance = [feature_importance[i] for i in sorted_indices]\n",
    "sorted_feature_names = [feature_names[i] for i in sorted_indices]\n",
    "\n",
    "for name, importance in zip(sorted_feature_names, sorted_feature_importance):\n",
    "    print(f'{name}: {importance}')"
   ]
  },
  {
   "cell_type": "code",
   "execution_count": null,
   "metadata": {},
   "outputs": [],
   "source": []
  },
  {
   "cell_type": "markdown",
   "metadata": {},
   "source": [
    "> ### 내가 했던 코드"
   ]
  },
  {
   "cell_type": "code",
   "execution_count": 119,
   "metadata": {},
   "outputs": [
    {
     "name": "stdout",
     "output_type": "stream",
     "text": [
      "StratifiedKFold accuracy :  [0.9052319842053307, 0.9032576505429417, 0.9012345679012346, 0.9076543209876543, 0.9066666666666666]\n",
      "Average of accuracy :  0.9048090380607656\n",
      "Logistic Regression Coefficients:\n"
     ]
    },
    {
     "data": {
      "text/html": [
       "<div>\n",
       "<style scoped>\n",
       "    .dataframe tbody tr th:only-of-type {\n",
       "        vertical-align: middle;\n",
       "    }\n",
       "\n",
       "    .dataframe tbody tr th {\n",
       "        vertical-align: top;\n",
       "    }\n",
       "\n",
       "    .dataframe thead th {\n",
       "        text-align: right;\n",
       "    }\n",
       "</style>\n",
       "<table border=\"1\" class=\"dataframe\">\n",
       "  <thead>\n",
       "    <tr style=\"text-align: right;\">\n",
       "      <th></th>\n",
       "      <th>feature</th>\n",
       "      <th>coef</th>\n",
       "    </tr>\n",
       "  </thead>\n",
       "  <tbody>\n",
       "    <tr>\n",
       "      <th>16</th>\n",
       "      <td>Trans_Cnt</td>\n",
       "      <td>2.654058</td>\n",
       "    </tr>\n",
       "    <tr>\n",
       "      <th>15</th>\n",
       "      <td>Trans_Amt</td>\n",
       "      <td>1.558898</td>\n",
       "    </tr>\n",
       "    <tr>\n",
       "      <th>12</th>\n",
       "      <td>Revolv_Bal</td>\n",
       "      <td>0.768497</td>\n",
       "    </tr>\n",
       "    <tr>\n",
       "      <th>8</th>\n",
       "      <td>Product_Cnt</td>\n",
       "      <td>0.697632</td>\n",
       "    </tr>\n",
       "    <tr>\n",
       "      <th>18</th>\n",
       "      <td>Cnt_Chng_Q4_Q1</td>\n",
       "      <td>0.662789</td>\n",
       "    </tr>\n",
       "    <tr>\n",
       "      <th>10</th>\n",
       "      <td>Contacts_Cnt</td>\n",
       "      <td>0.546194</td>\n",
       "    </tr>\n",
       "    <tr>\n",
       "      <th>9</th>\n",
       "      <td>Inactive_Months</td>\n",
       "      <td>0.504609</td>\n",
       "    </tr>\n",
       "    <tr>\n",
       "      <th>1</th>\n",
       "      <td>Gender</td>\n",
       "      <td>0.325830</td>\n",
       "    </tr>\n",
       "    <tr>\n",
       "      <th>2</th>\n",
       "      <td>Dependents</td>\n",
       "      <td>0.178515</td>\n",
       "    </tr>\n",
       "    <tr>\n",
       "      <th>6</th>\n",
       "      <td>Card_Type</td>\n",
       "      <td>0.120812</td>\n",
       "    </tr>\n",
       "    <tr>\n",
       "      <th>17</th>\n",
       "      <td>Amt_Chng_Q4_Q1</td>\n",
       "      <td>0.097186</td>\n",
       "    </tr>\n",
       "    <tr>\n",
       "      <th>4</th>\n",
       "      <td>Marital</td>\n",
       "      <td>0.076471</td>\n",
       "    </tr>\n",
       "    <tr>\n",
       "      <th>11</th>\n",
       "      <td>Credit_Limit</td>\n",
       "      <td>0.071542</td>\n",
       "    </tr>\n",
       "    <tr>\n",
       "      <th>3</th>\n",
       "      <td>Education</td>\n",
       "      <td>0.051818</td>\n",
       "    </tr>\n",
       "    <tr>\n",
       "      <th>7</th>\n",
       "      <td>Tenure</td>\n",
       "      <td>0.046817</td>\n",
       "    </tr>\n",
       "    <tr>\n",
       "      <th>5</th>\n",
       "      <td>Income</td>\n",
       "      <td>0.046191</td>\n",
       "    </tr>\n",
       "    <tr>\n",
       "      <th>0</th>\n",
       "      <td>Age</td>\n",
       "      <td>0.044484</td>\n",
       "    </tr>\n",
       "    <tr>\n",
       "      <th>14</th>\n",
       "      <td>Avg_Util_Ratio</td>\n",
       "      <td>0.030279</td>\n",
       "    </tr>\n",
       "    <tr>\n",
       "      <th>13</th>\n",
       "      <td>Avg_OTB</td>\n",
       "      <td>0.002623</td>\n",
       "    </tr>\n",
       "  </tbody>\n",
       "</table>\n",
       "</div>"
      ],
      "text/plain": [
       "            feature      coef\n",
       "16        Trans_Cnt  2.654058\n",
       "15        Trans_Amt  1.558898\n",
       "12       Revolv_Bal  0.768497\n",
       "8       Product_Cnt  0.697632\n",
       "18   Cnt_Chng_Q4_Q1  0.662789\n",
       "10     Contacts_Cnt  0.546194\n",
       "9   Inactive_Months  0.504609\n",
       "1            Gender  0.325830\n",
       "2        Dependents  0.178515\n",
       "6         Card_Type  0.120812\n",
       "17   Amt_Chng_Q4_Q1  0.097186\n",
       "4           Marital  0.076471\n",
       "11     Credit_Limit  0.071542\n",
       "3         Education  0.051818\n",
       "7            Tenure  0.046817\n",
       "5            Income  0.046191\n",
       "0               Age  0.044484\n",
       "14   Avg_Util_Ratio  0.030279\n",
       "13          Avg_OTB  0.002623"
      ]
     },
     "execution_count": 119,
     "metadata": {},
     "output_type": "execute_result"
    }
   ],
   "source": [
    "X = df.drop(['Exited'], axis=1)\n",
    "y = df['Exited']\n",
    "\n",
    "skfold = StratifiedKFold(n_splits=5, shuffle=True, random_state=13)\n",
    "lr = LogisticRegression(solver='liblinear', random_state=13)\n",
    "\n",
    "cv_accuracy = []\n",
    "coefficients = []\n",
    "\n",
    "for train_idx, test_idx in skfold.split(X, y):\n",
    "    X_train = X.iloc[train_idx]\n",
    "    X_test = X.iloc[test_idx]\n",
    "    y_train = y.iloc[train_idx]\n",
    "    y_test = y.iloc[test_idx]\n",
    "\n",
    "    sc = StandardScaler()\n",
    "\n",
    "    X_train_scaled = sc.fit_transform(X_train)\n",
    "    X_test_scaled = sc.transform(X_test)\n",
    "\n",
    "    lr.fit(X_train_scaled, y_train)\n",
    "    pred = lr.predict(X_test_scaled)\n",
    "    cv_accuracy.append(accuracy_score(y_test, pred))\n",
    "\n",
    "    coefficients.append(lr.coef_[0])\n",
    "\n",
    "print('StratifiedKFold accuracy : ', cv_accuracy)\n",
    "print('Average of accuracy : ', np.mean(cv_accuracy))\n",
    "\n",
    "mean_coefficients = np.mean(coefficients, axis=0)\n",
    "\n",
    "# 각 특성의 회귀 계수를 출력합니다.\n",
    "print(\"Logistic Regression Coefficients:\")\n",
    "\n",
    "feature_list = []\n",
    "coef_list = []\n",
    "\n",
    "for feature, importance in zip(X.columns, np.abs(mean_coefficients)):\n",
    "    feature_list.append(feature)\n",
    "    coef_list.append(importance)\n",
    "\n",
    "coef_df = pd.DataFrame({\n",
    "    'feature' : feature_list,\n",
    "    'coef' : coef_list\n",
    "})\n",
    "coef_df.sort_values('coef', ascending=False)"
   ]
  },
  {
   "cell_type": "markdown",
   "metadata": {},
   "source": [
    "- Trans_Cnt: 2.6589656280321647\n",
    "- Trans_Amt: 1.555848514382384\n",
    "- Revolv_Bal: 0.7764501175871036\n",
    "- Product_Cnt: 0.715255812196321\n",
    "- Cnt_Chng_Q4_Q1: 0.6765008265333101\n",
    "- Contacts_Cnt: 0.5312052132138345\n",
    "- Inactive_Months: 0.484383842145075\n",
    "- Gender: 0.3140623827789579\n",
    "- Dependents: 0.17838899763732638\n",
    "- Card_Type: 0.13674997471718453\n",
    "- Amt_Chng_Q4_Q1: 0.10843233541063191\n",
    "- Tenure: 0.07755930501442877\n",
    "- Marital: 0.06939151994694039\n",
    "- Avg_OTB: 0.044101804141627794\n",
    "- Income: 0.04211010097920088\n",
    "- Education: 0.03378580848342969\n",
    "- Age: 0.02316922607501537\n",
    "- Credit_Limit: 0.014848506281727087\n",
    "- Avg_Util_Ratio: 0.006853706976101743"
   ]
  }
 ],
 "metadata": {
  "kernelspec": {
   "display_name": "ds_study",
   "language": "python",
   "name": "python3"
  },
  "language_info": {
   "codemirror_mode": {
    "name": "ipython",
    "version": 3
   },
   "file_extension": ".py",
   "mimetype": "text/x-python",
   "name": "python",
   "nbconvert_exporter": "python",
   "pygments_lexer": "ipython3",
   "version": "3.8.16"
  },
  "orig_nbformat": 4
 },
 "nbformat": 4,
 "nbformat_minor": 2
}
